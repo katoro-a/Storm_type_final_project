{
 "cells": [
  {
   "cell_type": "markdown",
   "id": "9112db3f",
   "metadata": {},
   "source": [
    "# Gather_Compress_Files "
   ]
  },
  {
   "cell_type": "code",
   "execution_count": null,
   "id": "64ca7b73",
   "metadata": {},
   "outputs": [],
   "source": [
    "- https://www.ncei.noaa.gov/pub/data/swdi/stormevents/csvfiles/"
   ]
  },
  {
   "cell_type": "code",
   "execution_count": null,
   "id": "cd0298dc",
   "metadata": {},
   "outputs": [],
   "source": [
    "# provide the path to the folder you want to extract a large group of files from \n",
    "# then extract all the file names \n",
    "path1 = '/Users/k/Desktop/Ironhack_prework_activities/End_Of_Semester_Proj/DataSets/details_storm_events/'\n",
    "file_list1=os.listdir(path1)\n",
    "\n",
    "path2 ='/Users/k/Desktop/Ironhack_prework_activities/End_Of_Semester_Proj/DataSets/fatalities_storm_events/'\n",
    "file_list2=os.listdir(path2)\n",
    "\n",
    "path3 ='/Users/k/Desktop/Ironhack_prework_activities/End_Of_Semester_Proj/DataSets/location_storm_events/'\n",
    "file_list3 =  os.listdir(path3)\n"
   ]
  },
  {
   "cell_type": "code",
   "execution_count": null,
   "id": "ea1540b0",
   "metadata": {},
   "outputs": [],
   "source": [
    "# note the file names wont be in chroalogical order "
   ]
  },
  {
   "cell_type": "code",
   "execution_count": null,
   "id": "20eeeef4",
   "metadata": {},
   "outputs": [],
   "source": [
    "def list_of_files(file_list): \n",
    "    csv_files=[]\n",
    "    for file in file_list:\n",
    "        if file.endswith('.csv'):\n",
    "            csv_files.append(file) \n",
    "    return csv_files "
   ]
  },
  {
   "cell_type": "code",
   "execution_count": null,
   "id": "5f40333d",
   "metadata": {},
   "outputs": [],
   "source": [
    "# gather each data type together "
   ]
  },
  {
   "cell_type": "code",
   "execution_count": null,
   "id": "673c0dac",
   "metadata": {},
   "outputs": [],
   "source": [
    "details = list_of_files(file_list1)\n",
    "details.sort()\n",
    "print(details)"
   ]
  },
  {
   "cell_type": "code",
   "execution_count": null,
   "id": "dea918a5",
   "metadata": {},
   "outputs": [],
   "source": [
    "fatalities = list_of_files(file_list2)\n",
    "fatalities.sort()\n",
    "fatalities"
   ]
  },
  {
   "cell_type": "code",
   "execution_count": null,
   "id": "56292441",
   "metadata": {},
   "outputs": [],
   "source": [
    "locations = list_of_files(file_list3)\n",
    "locations.sort()\n",
    "locations"
   ]
  },
  {
   "cell_type": "code",
   "execution_count": null,
   "id": "581b941c",
   "metadata": {},
   "outputs": [],
   "source": [
    "# concat detail file list "
   ]
  },
  {
   "cell_type": "markdown",
   "id": "65132f10",
   "metadata": {},
   "source": [
    "# detail"
   ]
  },
  {
   "cell_type": "code",
   "execution_count": null,
   "id": "15cc8bc0",
   "metadata": {},
   "outputs": [],
   "source": [
    "\n",
    "details_ = pd.DataFrame() # error was here you had to save it to an empty data frame not a list \n",
    "for file in details:\n",
    "    temp = pd.read_csv(path1+file)\n",
    "    try:\n",
    "        details_ = pd.concat([details_,temp],axis=0)\n",
    "    except Exception as e:\n",
    "        print(e)\n",
    "        print(file)"
   ]
  },
  {
   "cell_type": "code",
   "execution_count": null,
   "id": "e5831063",
   "metadata": {},
   "outputs": [],
   "source": [
    "details_.shape \n",
    "# shave off 3 years"
   ]
  },
  {
   "cell_type": "code",
   "execution_count": null,
   "id": "2e09f290",
   "metadata": {},
   "outputs": [],
   "source": [
    "# create a new csv containg all the pulled together data "
   ]
  },
  {
   "cell_type": "markdown",
   "id": "f38969fc",
   "metadata": {},
   "source": [
    "# fatality"
   ]
  },
  {
   "cell_type": "code",
   "execution_count": null,
   "id": "0473ee1d",
   "metadata": {},
   "outputs": [],
   "source": [
    "details_.to_csv('/Users/k/Desktop/Ironhack_prework_activities/End_Of_Semester_Proj/details_.csv')"
   ]
  },
  {
   "cell_type": "code",
   "execution_count": null,
   "id": "2a9c7b2d",
   "metadata": {},
   "outputs": [],
   "source": [
    "fatalities_ = pd.DataFrame() \n",
    "for file in fatalities:\n",
    "    temp = pd.read_csv(path2+file)\n",
    "    try:\n",
    "        fatalities_ = pd.concat([fatalities_,temp],axis=0)\n",
    "    except Exception as e:\n",
    "        print(e)\n",
    "        print(file)"
   ]
  },
  {
   "cell_type": "code",
   "execution_count": null,
   "id": "87347c54",
   "metadata": {},
   "outputs": [],
   "source": [
    "fatalities_.shape "
   ]
  },
  {
   "cell_type": "code",
   "execution_count": null,
   "id": "716855cd",
   "metadata": {},
   "outputs": [],
   "source": [
    "fatalities_.to_csv('/Users/k/Desktop/Ironhack_prework_activities/End_Of_Semester_Proj/fatalities_.csv')"
   ]
  },
  {
   "cell_type": "markdown",
   "id": "3c3e539e",
   "metadata": {},
   "source": [
    "# Location"
   ]
  },
  {
   "cell_type": "code",
   "execution_count": null,
   "id": "44897086",
   "metadata": {},
   "outputs": [],
   "source": [
    "locations_ = pd.DataFrame() # error was here you had to save it to an empty data frame not a list \n",
    "for file in locations:\n",
    "    temp = pd.read_csv(path3+file)\n",
    "    try:\n",
    "        locations_ = pd.concat([locations_,temp],axis=0)\n",
    "    except Exception as e:\n",
    "        print(e)\n",
    "        print(file)"
   ]
  },
  {
   "cell_type": "code",
   "execution_count": null,
   "id": "a3c1cf2e",
   "metadata": {},
   "outputs": [],
   "source": [
    "locations_.shape"
   ]
  },
  {
   "cell_type": "code",
   "execution_count": null,
   "id": "ff89b1db",
   "metadata": {},
   "outputs": [],
   "source": [
    "locations_.to_csv('/Users/k/Desktop/Ironhack_prework_activities/End_Of_Semester_Proj/locations_.csv')\n"
   ]
  },
  {
   "cell_type": "markdown",
   "id": "1502c710",
   "metadata": {},
   "source": [
    "# Read all the new files you created "
   ]
  },
  {
   "cell_type": "code",
   "execution_count": null,
   "id": "fc83af3d",
   "metadata": {},
   "outputs": [],
   "source": [
    "D = pd.read_csv('/Users/k/Desktop/Ironhack_prework_activities/End_Of_Semester_Proj/details_.csv')\n",
    "# detail\n",
    "F =pd.read_csv('/Users/k/Desktop/Ironhack_prework_activities/End_Of_Semester_Proj/fatalities_.csv')\n",
    "# fatalitiy\n",
    "L = pd.read_csv('/Users/k/Desktop/Ironhack_prework_activities/End_Of_Semester_Proj/locations_.csv')\n",
    "#location"
   ]
  },
  {
   "cell_type": "code",
   "execution_count": null,
   "id": "b9eff70b",
   "metadata": {},
   "outputs": [],
   "source": [
    "D.head(2)"
   ]
  },
  {
   "cell_type": "code",
   "execution_count": null,
   "id": "3c5b06e2",
   "metadata": {},
   "outputs": [],
   "source": [
    "F.head(3)"
   ]
  },
  {
   "cell_type": "code",
   "execution_count": null,
   "id": "8c6403b0",
   "metadata": {},
   "outputs": [],
   "source": [
    "L.head(3)"
   ]
  },
  {
   "cell_type": "markdown",
   "id": "98a1c6c1",
   "metadata": {},
   "source": [
    "# Join on the Event_id "
   ]
  },
  {
   "cell_type": "code",
   "execution_count": null,
   "id": "cc1e1a3c",
   "metadata": {},
   "outputs": [],
   "source": [
    "df = D.merge(L,how='inner',on='EVENT_ID')\n",
    "f_df = df.merge(F,how='left',on='EVENT_ID')"
   ]
  },
  {
   "cell_type": "code",
   "execution_count": null,
   "id": "acf492a3",
   "metadata": {},
   "outputs": [],
   "source": [
    "f_df.shape"
   ]
  },
  {
   "cell_type": "markdown",
   "id": "1a7d8cbb",
   "metadata": {},
   "source": [
    "# Save the final DF as a csv"
   ]
  },
  {
   "cell_type": "code",
   "execution_count": null,
   "id": "01fb74a4",
   "metadata": {},
   "outputs": [],
   "source": [
    "f_df.to_csv('/Users/k/Desktop/Ironhack_prework_activities/End_Of_Semester_Proj/f_df.csv')\n"
   ]
  }
 ],
 "metadata": {
  "kernelspec": {
   "display_name": "Python 3 (ipykernel)",
   "language": "python",
   "name": "python3"
  },
  "language_info": {
   "codemirror_mode": {
    "name": "ipython",
    "version": 3
   },
   "file_extension": ".py",
   "mimetype": "text/x-python",
   "name": "python",
   "nbconvert_exporter": "python",
   "pygments_lexer": "ipython3",
   "version": "3.9.7"
  }
 },
 "nbformat": 4,
 "nbformat_minor": 5
}
