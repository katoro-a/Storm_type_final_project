{
 "cells": [
  {
   "cell_type": "markdown",
   "id": "0a0b1f1d",
   "metadata": {},
   "source": [
    "# Explore data"
   ]
  },
  {
   "cell_type": "code",
   "execution_count": 2,
   "id": "13d1d96d",
   "metadata": {},
   "outputs": [],
   "source": [
    "import pandas as pd \n",
    "import os\n",
    "import re \n",
    "pd.set_option('display.max_columns',None) \n",
    "pd.set_option('display.max_rows',None) \n",
    "import numpy as np\n",
    "import matplotlib.pyplot as plt\n",
    "import seaborn as sns\n",
    "from scipy import stats\n",
    "from sklearn.preprocessing import Normalizer\n",
    "from sklearn.preprocessing import StandardScaler\n",
    "\n",
    "import warnings\n",
    "warnings.filterwarnings('ignore')  "
   ]
  },
  {
   "cell_type": "code",
   "execution_count": 3,
   "id": "c517db79",
   "metadata": {},
   "outputs": [],
   "source": [
    "f_df=pd.read_csv('/Users/k/Desktop/Ironhack_prework_activities/FinalProject_eventtype/f_df_breakdown_files/f_df.csv')"
   ]
  },
  {
   "cell_type": "code",
   "execution_count": 4,
   "id": "ec634885",
   "metadata": {},
   "outputs": [
    {
     "data": {
      "text/plain": [
       "Thunderstorm Wind           129809\n",
       "Flash Flood                 107791\n",
       "Hail                         87578\n",
       "Flood                        77377\n",
       "Tornado                      19849\n",
       "Marine Thunderstorm Wind     13599\n",
       "Heavy Rain                    9747\n",
       "Lightning                     4083\n",
       "Funnel Cloud                  2685\n",
       "Waterspout                    1767\n",
       "Debris Flow                   1511\n",
       "Marine High Wind               353\n",
       "Marine Hail                    281\n",
       "Marine Strong Wind             107\n",
       "Dust Devil                     101\n",
       "Name: EVENT_TYPE, dtype: int64"
      ]
     },
     "execution_count": 4,
     "metadata": {},
     "output_type": "execute_result"
    }
   ],
   "source": [
    "f_df['EVENT_TYPE'].value_counts()"
   ]
  },
  {
   "cell_type": "code",
   "execution_count": 3,
   "id": "6ecbb3a9",
   "metadata": {},
   "outputs": [],
   "source": [
    "#FIX\n",
    "def plot_hist(x): \n",
    "    print(x)\n",
    "    f_df[x].hist()\n",
    "    plt.show()\n"
   ]
  },
  {
   "cell_type": "code",
   "execution_count": null,
   "id": "40a9778d",
   "metadata": {},
   "outputs": [],
   "source": [
    "dist=(plot_hist(f_df.columns))\n"
   ]
  },
  {
   "cell_type": "code",
   "execution_count": null,
   "id": "4920801e",
   "metadata": {},
   "outputs": [],
   "source": [
    "sns.pairplot(f_df)  \n",
    "# fix "
   ]
  },
  {
   "cell_type": "code",
   "execution_count": null,
   "id": "3087cdfb",
   "metadata": {},
   "outputs": [],
   "source": [
    "len(f_df.columns) \n"
   ]
  },
  {
   "cell_type": "code",
   "execution_count": null,
   "id": "f137fd67",
   "metadata": {},
   "outputs": [],
   "source": [
    "def histy(x):\n",
    "    event_type = pd.DataFrame(f_df[x].value_counts().reset_index())\n",
    "    print(x)\n",
    "\n",
    "    plt.bar(event_type['index'],event_type[x])\n",
    "    plt.xlabel('name',fontsize='12')\n",
    "    plt.ylabel('count',fontsize='12') \n",
    "    plt.xticks(rotation=90) \n",
    "    #plt.figure(figsize=(10,9))\n",
    "    plt.show()"
   ]
  },
  {
   "cell_type": "code",
   "execution_count": null,
   "id": "d1bc5f2a",
   "metadata": {},
   "outputs": [],
   "source": [
    "len(f_df['injuries_direct'].value_counts())"
   ]
  },
  {
   "cell_type": "code",
   "execution_count": null,
   "id": "2310e708",
   "metadata": {},
   "outputs": [],
   "source": [
    "list(map(histy,f_df.columns))"
   ]
  },
  {
   "cell_type": "code",
   "execution_count": null,
   "id": "724c16ff",
   "metadata": {},
   "outputs": [],
   "source": [
    "# convert count to a dataframe for the eventtype\n",
    "event_type = pd.DataFrame(f_df['event_type'].value_counts().reset_index())\n",
    "event_type = event_type.rename(columns={'index':'event_type','event_type':'event_count'})\n",
    "\n",
    "print(event_type)\n",
    "\n",
    "plt.bar(event_type['event_type'],event_type['event_count'])\n",
    "plt.title('eventtype',fontsize='15')\n",
    "plt.xlabel('name',fontsize='12')\n",
    "plt.ylabel('count',fontsize='12') \n",
    "plt.xticks(rotation=90) \n",
    "#plt.figure(figsize=(10,9))\n",
    "plt.show()\n",
    "\n"
   ]
  }
 ],
 "metadata": {
  "kernelspec": {
   "display_name": "Python 3 (ipykernel)",
   "language": "python",
   "name": "python3"
  },
  "language_info": {
   "codemirror_mode": {
    "name": "ipython",
    "version": 3
   },
   "file_extension": ".py",
   "mimetype": "text/x-python",
   "name": "python",
   "nbconvert_exporter": "python",
   "pygments_lexer": "ipython3",
   "version": "3.9.7"
  }
 },
 "nbformat": 4,
 "nbformat_minor": 5
}
